{
 "cells": [
  {
   "cell_type": "code",
   "execution_count": 1,
   "id": "e2658d83-7197-496e-bda8-d0f28160d518",
   "metadata": {},
   "outputs": [
    {
     "name": "stdout",
     "output_type": "stream",
     "text": [
      "pygame 2.6.0 (SDL 2.28.4, Python 3.12.1)\n",
      "Hello from the pygame community. https://www.pygame.org/contribute.html\n"
     ]
    }
   ],
   "source": [
    "import pygame \n",
    "import time\n",
    "\n",
    "def playmusic(song):\n",
    "    pygame.mixer.init()\n",
    "    sound_file=song\n",
    "    sound = pygame.mixer.sound(sound_file)\n",
    "    sound.play()\n",
    "    time.sleep(30)\n",
    "    sound.stop()\n",
    "\n",
    "while True:\n",
    "    print(\"Choose a type of music to play:\")\n",
    "    print(\"1. Hindi\")\n",
    "    print(\"2. punjabi\")\n",
    "    print(\"3. Haryanvi\")\n",
    "    print(\"4. Rajasthani\")\n",
    "    print(\"5. mood nhi hai\")\n",
    "    choice = int(input(\"Enter\"))\n",
    "    match choice:\n",
    "        case 1:\n",
    "            playmusic('damdam.mp3')\n",
    "        case _:\n",
    "            playmusic('damdam.mp3')\n",
    "            break\n"
   ]
  },
  {
   "cell_type": "code",
   "execution_count": null,
   "id": "1779151f-6905-47ad-88f8-ea984b2faba9",
   "metadata": {},
   "outputs": [],
   "source": []
  }
 ],
 "metadata": {
  "kernelspec": {
   "display_name": "Python 3 (ipykernel)",
   "language": "python",
   "name": "python3"
  },
  "language_info": {
   "codemirror_mode": {
    "name": "ipython",
    "version": 3
   },
   "file_extension": ".py",
   "mimetype": "text/x-python",
   "name": "python",
   "nbconvert_exporter": "python",
   "pygments_lexer": "ipython3",
   "version": "3.12.1"
  }
 },
 "nbformat": 4,
 "nbformat_minor": 5
}
