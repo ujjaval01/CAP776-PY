{
 "cells": [
  {
   "cell_type": "code",
   "execution_count": 1,
   "id": "eb0f65fb-0bc1-47aa-881d-db0c6dd65287",
   "metadata": {},
   "outputs": [
    {
     "name": "stdout",
     "output_type": "stream",
     "text": [
      "pygame 2.6.0 (SDL 2.28.4, Python 3.12.1)\n",
      "Hello from the pygame community. https://www.pygame.org/contribute.html\n",
      "Choose a type of music to play:\n",
      "1. Hindi\n",
      "2. Punjabi\n",
      "3. Haryanvi\n",
      "4. Rajasthani\n",
      "5. Mood nahi hai\n"
     ]
    },
    {
     "name": "stdin",
     "output_type": "stream",
     "text": [
      "Enter your choice:  2\n"
     ]
    },
    {
     "name": "stdout",
     "output_type": "stream",
     "text": [
      "Choose a type of music to play:\n",
      "1. Hindi\n",
      "2. Punjabi\n",
      "3. Haryanvi\n",
      "4. Rajasthani\n",
      "5. Mood nahi hai\n"
     ]
    },
    {
     "name": "stdin",
     "output_type": "stream",
     "text": [
      "Enter your choice:  3\n"
     ]
    }
   ],
   "source": [
    "import pygame\n",
    "import time\n",
    "\n",
    "def playmusic(song):\n",
    "    pygame.mixer.init()\n",
    "    try:\n",
    "        sound = pygame.mixer.Sound(song)\n",
    "        sound.play()\n",
    "        time.sleep(10)  # Play for 10 seconds\n",
    "        sound.stop()\n",
    "    except pygame.error as e:\n",
    "        print(f\"Error loading sound file: {e}\")\n",
    "\n",
    "while True:\n",
    "    print(\"Choose a type of music to play:\")\n",
    "    print(\"1. Hindi\")\n",
    "    print(\"2. Punjabi\")\n",
    "    print(\"3. Haryanvi\")\n",
    "    print(\"4. Rajasthani\")\n",
    "    print(\"5. Mood nahi hai\")\n",
    "    \n",
    "    try:\n",
    "        choice = int(input(\"Enter your choice: \"))\n",
    "        match choice:\n",
    "            case 1:\n",
    "                playmusic('damdam.mp3')\n",
    "            case 2:\n",
    "                playmusic('sher1.mp3')\n",
    "            case _:\n",
    "                playmusic('sher2.mp3')\n",
    "                break\n",
    "    except ValueError:\n",
    "        print(\"Please enter a valid number.\")"
   ]
  },
  {
   "cell_type": "code",
   "execution_count": null,
   "id": "3a051c86-9cd9-4296-924c-d9f606caf6d4",
   "metadata": {},
   "outputs": [],
   "source": []
  }
 ],
 "metadata": {
  "kernelspec": {
   "display_name": "Python 3 (ipykernel)",
   "language": "python",
   "name": "python3"
  },
  "language_info": {
   "codemirror_mode": {
    "name": "ipython",
    "version": 3
   },
   "file_extension": ".py",
   "mimetype": "text/x-python",
   "name": "python",
   "nbconvert_exporter": "python",
   "pygments_lexer": "ipython3",
   "version": "3.12.1"
  }
 },
 "nbformat": 4,
 "nbformat_minor": 5
}
