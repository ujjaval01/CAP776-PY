{
 "cells": [
  {
   "cell_type": "code",
   "execution_count": null,
   "id": "f31e56c6-f200-473a-8c80-3f312759302e",
   "metadata": {},
   "outputs": [],
   "source": [
    "import pygame\n",
    "import time\n",
    "\n",
    "def playmusic(song):\n",
    "    pygame.mixer.init()\n",
    "    try:\n",
    "        sound = pygame.mixer.Sound(song)\n",
    "        sound.play()\n",
    "        time.sleep(10)  # Play for 10 seconds\n",
    "        sound.stop()\n",
    "    except pygame.error as e:\n",
    "        print(f\"Error loading sound file: {e}\")\n",
    "\n",
    "while True:\n",
    "    print(\"Choose a type of music to play:\")\n",
    "    print(\"1. Dam Dam\")\n",
    "    print(\"2. Sher\")\n",
    "    print(\"3. Cheeta\")\n",
    "    print(\"4. Rom Rom Bhaiyo\")\n",
    "    print(\"5. Mood nahi hai\")\n",
    "    \n",
    "    try:\n",
    "        choice = int(input(\"Enter your choice: \"))\n",
    "        match choice:\n",
    "            case 1:\n",
    "                playmusic('damdam.mp3')\n",
    "            case 2:\n",
    "                playmusic('sher1.mp3')\n",
    "            case 3:\n",
    "                playmusic('sher2.mp3')\n",
    "            case _: \n",
    "                playmusic('romrom.mp3')\n",
    "                break\n",
    "    except ValueError:\n",
    "        print(\"Please enter a valid number.\")"
   ]
  },
  {
   "cell_type": "code",
   "execution_count": null,
   "id": "312b1f6a-ae6e-400d-bbe1-6fcb84692014",
   "metadata": {},
   "outputs": [],
   "source": []
  },
  {
   "cell_type": "code",
   "execution_count": null,
   "id": "516dab1d-e41b-431b-8e9c-fd0efdba0394",
   "metadata": {},
   "outputs": [],
   "source": []
  }
 ],
 "metadata": {
  "kernelspec": {
   "display_name": "Python 3 (ipykernel)",
   "language": "python",
   "name": "python3"
  },
  "language_info": {
   "codemirror_mode": {
    "name": "ipython",
    "version": 3
   },
   "file_extension": ".py",
   "mimetype": "text/x-python",
   "name": "python",
   "nbconvert_exporter": "python",
   "pygments_lexer": "ipython3",
   "version": "3.12.1"
  }
 },
 "nbformat": 4,
 "nbformat_minor": 5
}
